{
 "cells": [
  {
   "cell_type": "code",
   "execution_count": null,
   "id": "a8087238",
   "metadata": {},
   "outputs": [],
   "source": [
    "import cv2"
   ]
  },
  {
   "cell_type": "code",
   "execution_count": null,
   "id": "fd8f1bb1",
   "metadata": {},
   "outputs": [],
   "source": [
    "%matplotlib inline\n",
    "import matplotlib.pyplot as plt"
   ]
  },
  {
   "cell_type": "code",
   "execution_count": null,
   "id": "6a334bfc",
   "metadata": {},
   "outputs": [],
   "source": [
    "# add the path to your image here\n",
    "path = 'la-quiet-room.jpg'\n",
    "img = cv2.imread(path)\n",
    "img = cv2.cvtColor(img, cv2.COLOR_BGR2RGB)\n",
    "img.shape"
   ]
  },
  {
   "cell_type": "code",
   "execution_count": null,
   "id": "cb56de03",
   "metadata": {},
   "outputs": [],
   "source": [
    "img_plt = plt.imshow(img)\n",
    "img_plt.axes.get_xaxis().set_visible(False)\n",
    "img_plt.axes.get_yaxis().set_visible(False)"
   ]
  },
  {
   "cell_type": "code",
   "execution_count": null,
   "id": "c24bad9b",
   "metadata": {},
   "outputs": [],
   "source": [
    "grayscale_img = cv2.cvtColor(img, cv2.COLOR_BGR2GRAY)\n",
    "grayscale_img.shape"
   ]
  },
  {
   "cell_type": "code",
   "execution_count": null,
   "id": "8c420bfa",
   "metadata": {},
   "outputs": [],
   "source": [
    "gray_img = plt.imshow(grayscale_img, cmap='gray')\n",
    "gray_img.axes.get_xaxis().set_visible(False)\n",
    "gray_img.axes.get_yaxis().set_visible(False)\n",
    "plt.savefig('grayscale_img.png', bbox_inches='tight', pad_inches=0)"
   ]
  },
  {
   "cell_type": "code",
   "execution_count": null,
   "id": "7d4da691",
   "metadata": {},
   "outputs": [],
   "source": [
    "(thresh, blackAndWhiteImage) = cv2.threshold(grayscale_img, 127, 255, cv2.THRESH_BINARY)\n",
    "blackAndWhiteImage.shape"
   ]
  },
  {
   "cell_type": "code",
   "execution_count": null,
   "id": "589130a1",
   "metadata": {},
   "outputs": [],
   "source": [
    "bw_img = plt.imshow(blackAndWhiteImage, cmap='gray')\n",
    "bw_img.axes.get_xaxis().set_visible(False)\n",
    "bw_img.axes.get_yaxis().set_visible(False)\n",
    "plt.savefig('black_and_white_image.png', bbox_inches='tight', pad_inches=0)"
   ]
  }
 ],
 "metadata": {
  "kernelspec": {
   "display_name": "Python 3 (ipykernel)",
   "language": "python",
   "name": "python3"
  },
  "language_info": {
   "codemirror_mode": {
    "name": "ipython",
    "version": 3
   },
   "file_extension": ".py",
   "mimetype": "text/x-python",
   "name": "python",
   "nbconvert_exporter": "python",
   "pygments_lexer": "ipython3",
   "version": "3.9.12"
  }
 },
 "nbformat": 4,
 "nbformat_minor": 5
}
